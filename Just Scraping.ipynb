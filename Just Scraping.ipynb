{
 "cells": [
  {
   "cell_type": "code",
   "execution_count": null,
   "metadata": {
    "collapsed": true
   },
   "outputs": [],
   "source": [
    "import requests\n",
    "from setup import*\n",
    "from bs4 import BeautifulSoup\n",
    "\n",
    "web_list = []\n",
    "deck_list = []\n",
    "page_range = 50\n",
    "# deck_list = []\n",
    "for i in range(page_range):\n",
    "    print('page: ' + str(i+1))\n",
    "    result = requests.get(\"http://www.hearthpwn.com/decks?filter-is-forge=2&filter-unreleased-cards=f&filter-show-standard=1&filter-deck-tag=1&filter-class=64&page=\"+str(i+1))\n",
    "#     print(i)\n",
    "#     print(result.status_code)\n",
    "    c = result.content\n",
    "    soup = BeautifulSoup(c,'lxml')\n",
    "    samples = soup.find_all(\"a\")\n",
    "    for x in samples:\n",
    "    #     data = x.text.strip()\n",
    "        link = x.get('href')\n",
    "        if \"decks/\" in str(link):\n",
    "            web_list.append(str(link))\n",
    "#             card_result = requests.get(\"http://www.hearthpwn.com\" + link)\n",
    "#             d = card_result.content\n",
    "#             soup = BeautifulSoup(d,'lxml')\n",
    "#             card_list = []\n",
    "#             other_samples = soup.find_all('td','col-name')\n",
    "#             for x in other_samples:\n",
    "#                 num = str(x)[-52:-51]\n",
    "#                 thing = x.find('a')\n",
    "#                 card_link = thing.get('href')\n",
    "#                 if '/cards/' in str(card_link) and 'display' not in str(card_link):\n",
    "#                     card = card_link.split('-')\n",
    "#                     card =' '.join(card[1:])\n",
    "#                     for i in range(int(num)):\n",
    "#                         card_list.append(card)\n",
    "#             deck_list.append(card_list)\n",
    "#             print(link + ' has ' + str(len(card_list)))"
   ]
  },
  {
   "cell_type": "code",
   "execution_count": null,
   "metadata": {
    "collapsed": true
   },
   "outputs": [],
   "source": [
    "#NEEDS CELL 2 ABOVE\n",
    "index = -1\n",
    "for link in web_list[index+1:]:\n",
    "    card_result = requests.get(\"http://www.hearthpwn.com\" + link)\n",
    "    d = card_result.content\n",
    "    soup = BeautifulSoup(d,'lxml')\n",
    "    card_list = []\n",
    "    card_list.append(link.replace('/decks/',''))\n",
    "    other_samples = soup.find_all('td','col-name')\n",
    "    for x in other_samples:\n",
    "        num = str(x)[-52:-51]\n",
    "        thing = x.find('a')\n",
    "        card_link = thing.get('href')\n",
    "        if '/cards/' in str(card_link) and 'display' not in str(card_link):\n",
    "            card = card_link.split('-')\n",
    "            card =' '.join(card[1:])\n",
    "            for i in range(int(num)):\n",
    "                card_list.append(card)\n",
    "    deck_list.append(card_list)\n",
    "    print(str(count) + ': ' + link + ' has ' + str(len(card_list)))\n",
    "    count+=1"
   ]
  },
  {
   "cell_type": "code",
   "execution_count": null,
   "metadata": {
    "collapsed": true
   },
   "outputs": [],
   "source": [
    "cleaned_list = []\n",
    "for x in deck_list:\n",
    "    if len(x)>=30:\n",
    "        cleaned_list.append(x)\n",
    "print(len(cleaned_list))\n",
    "deck_list = cleaned_list"
   ]
  }
 ],
 "metadata": {
  "kernelspec": {
   "display_name": "Python 3",
   "language": "python",
   "name": "python3"
  },
  "language_info": {
   "codemirror_mode": {
    "name": "ipython",
    "version": 3
   },
   "file_extension": ".py",
   "mimetype": "text/x-python",
   "name": "python",
   "nbconvert_exporter": "python",
   "pygments_lexer": "ipython3",
   "version": "3.6.1"
  }
 },
 "nbformat": 4,
 "nbformat_minor": 2
}
