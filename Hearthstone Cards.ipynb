{
 "cells": [
  {
   "cell_type": "code",
   "execution_count": 57,
   "metadata": {},
   "outputs": [],
   "source": [
    "from setup import *\n",
    "import json\n",
    "\n",
    "df = pd.read_json('cards.json')\n",
    "df['type'].replace('NaN','NA',inplace=True)\n",
    "df.replace('nan','NA',inplace=True)\n",
    "df.drop(['artist','howToEarn','targetingArrowText','collectible'], axis=1,inplace=True)\n",
    "df_dict = dict([(str(x),df.loc[df['type']==str(x)]) for x in df['type'].unique()])"
   ]
  },
  {
   "cell_type": "code",
   "execution_count": 59,
   "metadata": {},
   "outputs": [
    {
     "data": {
      "text/plain": [
       "Index(['attack', 'classes', 'collectionText', 'cost', 'dbfId', 'durability',\n",
       "       'dust', 'entourage', 'faction', 'flavor', 'health', 'howToEarnGolden',\n",
       "       'id', 'mechanics', 'multiClassGroup', 'name', 'overload',\n",
       "       'playRequirements', 'playerClass', 'race', 'rarity', 'set',\n",
       "       'spellDamage', 'text', 'type'],\n",
       "      dtype='object')"
      ]
     },
     "metadata": {},
     "output_type": "display_data"
    },
    {
     "data": {
      "text/html": [
       "<div>\n",
       "<style>\n",
       "    .dataframe thead tr:only-child th {\n",
       "        text-align: right;\n",
       "    }\n",
       "\n",
       "    .dataframe thead th {\n",
       "        text-align: left;\n",
       "    }\n",
       "\n",
       "    .dataframe tbody tr th {\n",
       "        vertical-align: top;\n",
       "    }\n",
       "</style>\n",
       "<table border=\"1\" class=\"dataframe\">\n",
       "  <thead>\n",
       "    <tr style=\"text-align: right;\">\n",
       "      <th></th>\n",
       "      <th>type</th>\n",
       "    </tr>\n",
       "  </thead>\n",
       "  <tbody>\n",
       "    <tr>\n",
       "      <th>MINION</th>\n",
       "      <td>1193</td>\n",
       "    </tr>\n",
       "    <tr>\n",
       "      <th>SPELL</th>\n",
       "      <td>691</td>\n",
       "    </tr>\n",
       "    <tr>\n",
       "      <th>ENCHANTMENT</th>\n",
       "      <td>477</td>\n",
       "    </tr>\n",
       "    <tr>\n",
       "      <th>HERO_POWER</th>\n",
       "      <td>217</td>\n",
       "    </tr>\n",
       "    <tr>\n",
       "      <th>HERO</th>\n",
       "      <td>175</td>\n",
       "    </tr>\n",
       "    <tr>\n",
       "      <th>WEAPON</th>\n",
       "      <td>65</td>\n",
       "    </tr>\n",
       "  </tbody>\n",
       "</table>\n",
       "<p>6 rows × 1 columns</p>\n",
       "</div>"
      ],
      "text/plain": [
       "             type\n",
       "MINION       1193\n",
       "SPELL         691\n",
       "ENCHANTMENT   477\n",
       "HERO_POWER    217\n",
       "HERO          175\n",
       "WEAPON         65\n",
       "\n",
       "[6 rows x 1 columns]"
      ]
     },
     "metadata": {},
     "output_type": "display_data"
    }
   ],
   "source": [
    "display(df.columns)\n",
    "display(df['type'].value_counts())"
   ]
  },
  {
   "cell_type": "code",
   "execution_count": 66,
   "metadata": {},
   "outputs": [
    {
     "name": "stdout",
     "output_type": "stream",
     "text": [
      "ENCHANTMENT\n",
      "HERO\n",
      "HERO_POWER\n",
      "MINION\n",
      "SPELL\n"
     ]
    }
   ],
   "source": [
    "del df_dict[sorted(df_dict.keys())[-1]]"
   ]
  },
  {
   "cell_type": "code",
   "execution_count": 68,
   "metadata": {},
   "outputs": [
    {
     "name": "stdout",
     "output_type": "stream",
     "text": [
      "ENCHANTMENT\n",
      "HERO\n",
      "HERO_POWER\n",
      "MINION\n",
      "SPELL\n"
     ]
    }
   ],
   "source": [
    "for x in sorted(df_dict.keys()):\n",
    "    print(x)\n",
    "    df_dict[x].to_csv(x+'_cards.csv')"
   ]
  },
  {
   "cell_type": "code",
   "execution_count": 76,
   "metadata": {},
   "outputs": [
    {
     "data": {
      "text/html": [
       "<div>\n",
       "<style>\n",
       "    .dataframe thead tr:only-child th {\n",
       "        text-align: right;\n",
       "    }\n",
       "\n",
       "    .dataframe thead th {\n",
       "        text-align: left;\n",
       "    }\n",
       "\n",
       "    .dataframe tbody tr th {\n",
       "        vertical-align: top;\n",
       "    }\n",
       "</style>\n",
       "<table border=\"1\" class=\"dataframe\">\n",
       "  <thead>\n",
       "    <tr style=\"text-align: right;\">\n",
       "      <th></th>\n",
       "      <th>attack</th>\n",
       "      <th>classes</th>\n",
       "      <th>collectionText</th>\n",
       "      <th>cost</th>\n",
       "      <th>dbfId</th>\n",
       "      <th>durability</th>\n",
       "      <th>dust</th>\n",
       "      <th>entourage</th>\n",
       "      <th>faction</th>\n",
       "      <th>flavor</th>\n",
       "      <th>...</th>\n",
       "      <th>name</th>\n",
       "      <th>overload</th>\n",
       "      <th>playRequirements</th>\n",
       "      <th>playerClass</th>\n",
       "      <th>race</th>\n",
       "      <th>rarity</th>\n",
       "      <th>set</th>\n",
       "      <th>spellDamage</th>\n",
       "      <th>text</th>\n",
       "      <th>type</th>\n",
       "    </tr>\n",
       "  </thead>\n",
       "  <tbody>\n",
       "  </tbody>\n",
       "</table>\n",
       "<p>0 rows × 25 columns</p>\n",
       "</div>"
      ],
      "text/plain": [
       "Empty DataFrame\n",
       "Columns: [attack, classes, collectionText, cost, dbfId, durability, dust, entourage, faction, flavor, health, howToEarnGolden, id, mechanics, multiClassGroup, name, overload, playRequirements, playerClass, race, rarity, set, spellDamage, text, type]\n",
       "Index: []\n",
       "\n",
       "[0 rows x 25 columns]"
      ]
     },
     "execution_count": 76,
     "metadata": {},
     "output_type": "execute_result"
    }
   ],
   "source": [
    "df.loc[df['name'].str.lower().str.contains('tortollan')==True]"
   ]
  }
 ],
 "metadata": {
  "kernelspec": {
   "display_name": "Python 3",
   "language": "python",
   "name": "python3"
  },
  "language_info": {
   "codemirror_mode": {
    "name": "ipython",
    "version": 3
   },
   "file_extension": ".py",
   "mimetype": "text/x-python",
   "name": "python",
   "nbconvert_exporter": "python",
   "pygments_lexer": "ipython3",
   "version": "3.6.1"
  }
 },
 "nbformat": 4,
 "nbformat_minor": 2
}
